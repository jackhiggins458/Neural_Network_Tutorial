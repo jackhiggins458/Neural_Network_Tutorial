{
 "cells": [
  {
   "cell_type": "markdown",
   "id": "d3b03320-0f9a-44c5-92f2-e31869bf573a",
   "metadata": {
    "tags": []
   },
   "source": [
    "# Welcome! 👋🏾\n",
    "\n",
    "So you're keen to learn more about neural networks? Great, you're in the right place! Through this series of interactive tutorial sessions, we'll learn more about how neural networks work by coding one from scratch. \n",
    "\n",
    "Before that, we'll first need to familiarise ourselves with Jupyter Notebooks and some programming fundamentals in the R programming language.\n",
    "\n",
    "---"
   ]
  },
  {
   "cell_type": "markdown",
   "id": "72529b71-98a0-4085-9bd1-7d6b44b40ebd",
   "metadata": {
    "tags": []
   },
   "source": [
    "# Session Outlines\n",
    "\n",
    "We'll be working through four sessions (with an optional fifth session). See below for an outline of what each session will involve.\n",
    "\n",
    "**Note:** If you're already comfortable and familiar with notebooks and/or R, feel free to jump ahead.\n",
    "\n",
    "### [Session 1 📚 - Exploring Jupyter Notebooks](./1_Exploring_Notebooks.ipynb)\n",
    "- These tutorials are designed to be experienced using Jupyter Notebooks.\n",
    "- To get the most out of these tutorials, it'll help to know what Jupyter Notebooks are, what they can do, and how you can use them.\n",
    "\n",
    "### [Session 2 👩‍💻 - Programming fundamentals in R](./2_Learning_R.ipynb)\n",
    "- To code up a neural network in Session 4, we'll need to equip ourselves with some fundamental programming skills.\n",
    "- In this session, we'll be using a programming language called R.\n",
    "- If you've coded using R or another language before, fantastic! Most of this session should feel quite familiar.\n",
    "- If you haven't, don't stress! There's a lot to take in, but we'll be there to help walk you through some fundamental programming concepts, including data types, variables, loops and functions.\n",
    "\n",
    "### [Session 3 🔎 - Revising neural network concepts](./3_Revising_NNs.ipynb)\n",
    "- Before we start coding, we'll revise some of the machine learning and neural network basics covered in the presentation last week.\n",
    "\n",
    "### [Session 4 ✍🏾 - Coding a neural network](./4_Creating_NNs.ipynb)\n",
    "- Using only concepts and programming skills we've learned in the past couple of weeks, we'll design and code a simple neural network model to classify handwritten digits.\n",
    "\n",
    "### [Session 5 🚀 - Where to from here?](./5_Discovering_More.ipynb)\n",
    "- If you're keen to learn more, we've compiled a nice set of friendly resources, links and events to have a look at!\n",
    "- We'll also hang around to chat more if you have any questions.\n",
    "\n",
    "---"
   ]
  },
  {
   "cell_type": "markdown",
   "id": "2ed650f4-cee2-4d23-8a75-ac806f0ed65d",
   "metadata": {},
   "source": [
    "## Following along\n",
    "This session has been designed for you to view the notebooks interactively over the web (using the Binder link), and we strongly recommend following along in this way if you can. However, it's also possible to work directly from your local machine (e.g. using RStudio) if you're unable to access the interactive web notebooks.\n",
    "\n",
    "If you're having any issues with this, please let your facilitator know!\n",
    "\n",
    "---"
   ]
  },
  {
   "cell_type": "markdown",
   "id": "1fe33d15-bc33-41aa-861d-4cc310dc738e",
   "metadata": {
    "tags": []
   },
   "source": [
    "## ↪️ Next up: [📚 Session 1 - Exploring Jupyter Notebooks](./1_Exploring_Notebooks.ipynb)"
   ]
  }
 ],
 "metadata": {
  "kernelspec": {
   "display_name": "R",
   "language": "R",
   "name": "ir"
  },
  "language_info": {
   "codemirror_mode": "r",
   "file_extension": ".r",
   "mimetype": "text/x-r-source",
   "name": "R",
   "pygments_lexer": "r",
   "version": "4.4.2"
  }
 },
 "nbformat": 4,
 "nbformat_minor": 5
}
